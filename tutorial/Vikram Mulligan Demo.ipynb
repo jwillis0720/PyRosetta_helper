{
 "cells": [
  {
   "cell_type": "markdown",
   "metadata": {},
   "source": [
    "# Prologue \n",
    "\n"
   ]
  },
  {
   "cell_type": "markdown",
   "metadata": {},
   "source": [
    "# Introduction to Kinematic Closure (KIC)\n",
    "Kinematic closure algorithms were originally developed for the robotics field to solve the problem of determining the necessary joint angles that would place a robot's hand or foot in a desired place. We have adapted them for use within the Rosetta software suite to sample conformations of chains of atoms with well-defined start and end points.\n",
    "\n",
    "A molecular kinematic closure problem may be described as follows: given a covalently-contiguous chain of atoms within a molecule, with covalent linkages at the ends of the chain fixing the start and end of the chain, what possible conformations maintain the integrity of bond length, bond angle, and dihedral angle restrictions within the chain? To solve such a problem, we divide the chain of atoms into two segments, and define \"pivot points\" at the start of the chain (the first pivot), the end of the chain (the last pivot), and the breakpoint between the two segments (the middle pivot).\n",
    "\n",
    "Having done this, the degrees of freedom within the two segments may be held fixed, randomized, perturbed, or otherwise altered as one sees fit. These degrees of freedom include bond lengths, bond angles, and dihedral angles. Whatever one does to these degrees of freedom, one ends up with two segments that still have well-defined rigid body transforms from the first pivot to the middle pivot (in the first segment), and from the middle pivot to the last pivot (in the second segment). It is then possible to solve a system of equations for the six torsion angles adjacent to the three pivots in order to keep the system closed. The matrix math that gives rise to the solution(s) is extremely fast as compared to alternative loop closure methods (which typically rely on iterative gradient-descent minimization); however, for a given system, this step may yield anywhere from 0 to 16 solutions. It then becomes necessary to choose a solution for downstream molecular design or conformational refinement.\n",
    "\n",
    "The GeneralizedKIC mover in Rosetta gives a user full control over pre-closure sampling, post-closure filtering, and selection of a closure solution. It is fully accessible to the RosettaScripts scripting language, and interfaces nicely with other Rosetta movers and filters, allowing arbitrary protocols to be carried out on closure solutions before choosing a final solution. It also allows closure of chains that do not consist solely of polypeptide backbones: that is, it is fully compatible with closure of atomic chains that run through disulfide bonds, arbitrary side-chain cross-links or cross-linkers, and non-canonical backbones.\n",
    "\n",
    "!['Overview of KIC'](https://raw.githubusercontent.com/RosettaCommons/demos/master/tutorials/GeneralizedKIC/images/GenKIC_overview_sm.png?token=AAF5OKKLPVW4SDXQQ3UC5LC45XI7S)\n",
    "\n",
    "\n",
    "\n",
    ">A Note on Using GeneralizedKIC\n",
    "A loop that is open may be thought of as a continuous loop containing a bond that is badly stretched, and which likely has very strange bond angles and torsion angles at the cutpoint. GeneralizedKIC can close an open loop by using perturbations that set the bond length, bond angles, and, possibly, the torsion angle of the cutpoint to reasonable values prior to solving for pivot torsion values."
   ]
  },
  {
   "cell_type": "markdown",
   "metadata": {},
   "source": [
    "# Exercise A: Building and Closing a Polypeptide Loop Using PyRosetta\n",
    "\n",
    "> For this exercise, we will be using an NMR structure of an artificial mini-protein designed by Dr. Chris Bahl (PDB ID 2ND2). This mini-protein is a 44-residue 3-helix bundle. For the purposes of this tutorial, the structure has been stripped of its amino acid sequence (i.e. it has been mutated to poly-glycine), and the loop connecting the second and third helices has been deleted. This is meant to simulate many common design cases, in which one might arrange secondary structure elements first and build loops later (e.g. in the case of parametric design approaches), as well as certain structure prediction cases, in which one might wish to model loops that are missing in crystal structures. We will rebuild this loop and sample its possible conformations.\n",
    "\n",
    "The input structure, an edited version of PDB structure 2ND2 (2ND2_state1_glyonly_loop_removed.pdb):\n",
    "I have put copied from VK demo and put it in this folder contianint the notebook. The other thing you will need is my class (JRW) called GenKic from my repository called [PyRosetta_Helper](https://github.com/RubrycTherapeutics/PyRosetta_helper). If you want to view the structures as I have done, use [NGLView](https://github.com/arose/nglview) although it's not necssary"
   ]
  },
  {
   "cell_type": "code",
   "execution_count": 1,
   "metadata": {
    "ExecuteTime": {
     "end_time": "2019-05-23T22:56:24.791435Z",
     "start_time": "2019-05-23T22:56:23.423984Z"
    }
   },
   "outputs": [],
   "source": [
    "from pyrosetta_helper import *"
   ]
  },
  {
   "cell_type": "code",
   "execution_count": 2,
   "metadata": {
    "ExecuteTime": {
     "end_time": "2019-05-23T22:56:30.149163Z",
     "start_time": "2019-05-23T22:56:30.124666Z"
    }
   },
   "outputs": [],
   "source": [
    "get_one_to_three?"
   ]
  },
  {
   "cell_type": "code",
   "execution_count": 1,
   "metadata": {
    "ExecuteTime": {
     "end_time": "2019-05-22T22:49:15.583720Z",
     "start_time": "2019-05-22T22:49:13.166371Z"
    }
   },
   "outputs": [
    {
     "name": "stdout",
     "output_type": "stream",
     "text": [
      "PyRosetta-4 2019 [Rosetta PyRosetta4.conda.linux.CentOS.python36.Release 2019.17+release.2cb3f3aa09ca87198b19ae1feec77eeb30190a4b 2019-04-23T15:41:16] retrieved from: http://www.pyrosetta.org\n",
      "(C) Copyright Rosetta Commons Member Institutions. Created in JHU by Sergey Lyskov and PyRosetta Team.\n"
     ]
    }
   ],
   "source": [
    "from pyrosetta import pose_from_pdb,init,Pose, ScoreFunction\n",
    "import pyrosetta\n",
    "import nglview\n",
    "\n",
    "##You can set the logging handler to True if you want PyRosetta logging in the Jupyter Notebook\n",
    "init(set_logging_handler=False)\n",
    "input_pose = pose_from_pdb('2ND2_state1_glyonly.pdb')\n",
    "input_pose_no_loop = pose_from_pdb('2ND2_state1_glyonly_loop_removed.pdb')"
   ]
  },
  {
   "cell_type": "code",
   "execution_count": 2,
   "metadata": {
    "ExecuteTime": {
     "end_time": "2019-05-22T22:49:15.613167Z",
     "start_time": "2019-05-22T22:49:15.585159Z"
    }
   },
   "outputs": [
    {
     "data": {
      "application/vnd.jupyter.widget-view+json": {
       "model_id": "adcf4cc283ac4e3695b5eede666bfc80",
       "version_major": 2,
       "version_minor": 0
      },
      "text/plain": [
       "NGLWidget()"
      ]
     },
     "metadata": {},
     "output_type": "display_data"
    }
   ],
   "source": [
    "import nglview as nv\n",
    "view = nv.NGLWidget()\n",
    "view.add_structure(nv.RosettaStructure(input_pose))\n",
    "view.clear_representations()\n",
    "view.add_licorice('28-34',color='yellow')\n",
    "view.add_structure(nv.RosettaStructure(input_pose_no_loop))\n",
    "view"
   ]
  },
  {
   "cell_type": "markdown",
   "metadata": {
    "ExecuteTime": {
     "end_time": "2019-05-22T00:31:02.961717Z",
     "start_time": "2019-05-22T00:31:02.937643Z"
    }
   },
   "source": [
    "> You can see 2ND2 in the cartoon missing a loop that I have superimposed (yellow). Our goal is to rebuild the yellow loop using GenKic and PyRosetta"
   ]
  },
  {
   "cell_type": "markdown",
   "metadata": {},
   "source": [
    "### Step 1: Preparing to close loop\n",
    "The GeneralizedKIC mover is only capable of sampling conformations of existing geometry. It can neither add amino acid residues to a pose, nor create new bonds between residues. For this reason, we will use PyRosetta to make all the changes to the pose, and then use GenKic to idealize the bond angles and lengths.\n",
    "\n",
    "The first thing we have to do with PyRosetta, is make a pose that can be applied by GenKic. To do that we will have to manipulate the Pose. Let's first examine the break in the pose as supplied by VK"
   ]
  },
  {
   "cell_type": "code",
   "execution_count": 3,
   "metadata": {
    "ExecuteTime": {
     "end_time": "2019-05-22T22:49:15.617479Z",
     "start_time": "2019-05-22T22:49:15.614386Z"
    }
   },
   "outputs": [
    {
     "name": "stdout",
     "output_type": "stream",
     "text": [
      "GLY:CtermProteinFull\n",
      "GLY:NtermProteinFull\n"
     ]
    }
   ],
   "source": [
    "##The c terminus of one helix\n",
    "print(input_pose_no_loop.residue(28).name())\n",
    "\n",
    "#The N terminus of the other helix\n",
    "print(input_pose_no_loop.residue(29).name())"
   ]
  },
  {
   "cell_type": "markdown",
   "metadata": {},
   "source": [
    ">The input pose has a break between pose residue 28 and 29. First thing to do is change those terminal glycines to alanines. We do this for two reasons, 1) Gly:Termini resiude types complain when we try to join residues to them using the `pose.join_residue_by_bond` method. 2) Alanines work better as loop termini pivot points as they sample more diverse rama space. See V.M. original tutorial."
   ]
  },
  {
   "cell_type": "code",
   "execution_count": 4,
   "metadata": {
    "ExecuteTime": {
     "end_time": "2019-05-22T22:49:15.625785Z",
     "start_time": "2019-05-22T22:49:15.618697Z"
    }
   },
   "outputs": [],
   "source": [
    "def mutate_position(pose,position,mutate):\n",
    "    mr = pyrosetta.rosetta.protocols.simple_moves.MutateResidue()\n",
    "    mr.set_target(position)\n",
    "    mr.set_res_name(mutate)\n",
    "    mr.apply(pose)\n",
    "        \n",
    "##Mutate both 28 and 29 to ALA\n",
    "mutate_position(input_pose_no_loop,28,'ALA')\n",
    "mutate_position(input_pose_no_loop,29,'ALA')\n",
    "assert(input_pose_no_loop.residue(28).name() == 'ALA')\n",
    "assert(input_pose_no_loop.residue(29).name() == 'ALA')"
   ]
  },
  {
   "cell_type": "markdown",
   "metadata": {},
   "source": [
    "> The next step is to *slice* the pose into two seperate objects and then we can easily join those objects with any number of arbitrary residues. "
   ]
  },
  {
   "cell_type": "code",
   "execution_count": 5,
   "metadata": {
    "ExecuteTime": {
     "end_time": "2019-05-22T22:49:15.660956Z",
     "start_time": "2019-05-22T22:49:15.626960Z"
    }
   },
   "outputs": [
    {
     "data": {
      "application/vnd.jupyter.widget-view+json": {
       "model_id": "7481469ebaf34fd4af71502f770547bb",
       "version_major": 2,
       "version_minor": 0
      },
      "text/plain": [
       "NGLWidget()"
      ]
     },
     "metadata": {},
     "output_type": "display_data"
    }
   ],
   "source": [
    "\"\"\"\n",
    "The first function will take a pose and slice it from a start postion and an end position and return the sliced pose\n",
    "\"\"\"\n",
    "def slice_pose(p,start,end):\n",
    "    '''\n",
    "    Take a pose object and return from start, end\n",
    "    '''\n",
    "    sliced = Pose()\n",
    "    if end > p.size() or start > p.size():\n",
    "        return \"end/start slice is longer than total lenght of pose {} {}\".format(start,end) \n",
    "    for i in range(start,end+1):\n",
    "        sliced.append_residue_by_bond(p.residue(i))\n",
    "    return sliced\n",
    "\n",
    "##Pose object 1 - helix_AB all the way up to residue 28\n",
    "helix_ab_pose = slice_pose(input_pose_no_loop,1,28)\n",
    "\n",
    "##Pose object 2 - helix C and the reaminder of the pose\n",
    "helix_c_pose = slice_pose(input_pose_no_loop,29,input_pose_no_loop.size())\n",
    "\n",
    "view = nv.NGLWidget()\n",
    "view.add_structure(nv.RosettaStructure(helix_ab_pose))\n",
    "view.clear_representations()\n",
    "view.add_ribbon(color='blue')\n",
    "view.add_structure(nv.RosettaStructure(helix_c_pose))\n",
    "view"
   ]
  },
  {
   "cell_type": "markdown",
   "metadata": {},
   "source": [
    "> Now that we have two pose objects with their own numbering, we can join them backtogether with any arbitrary sequence. We will make a function that takes in two pose objects and joins them by a sequence. It will not do anything kinematically to close the bond, but sets us up for GK."
   ]
  },
  {
   "cell_type": "code",
   "execution_count": 6,
   "metadata": {
    "ExecuteTime": {
     "end_time": "2019-05-22T22:49:15.733813Z",
     "start_time": "2019-05-22T22:49:15.662178Z"
    }
   },
   "outputs": [
    {
     "name": "stdout",
     "output_type": "stream",
     "text": [
      "Joined NTerm and CTerm pose with loop AGAAA at residues [29, 30, 31, 32, 33]\n"
     ]
    },
    {
     "data": {
      "application/vnd.jupyter.widget-view+json": {
       "model_id": "4a051ad55a0b4053a85e5b5f4e4ec25a",
       "version_major": 2,
       "version_minor": 0
      },
      "text/plain": [
       "NGLWidget()"
      ]
     },
     "metadata": {},
     "output_type": "display_data"
    }
   ],
   "source": [
    "def crudely_connect_w_loop(n_term_pose,c_term_pose,connect_with):\n",
    "    \"\"\"\n",
    "    The function will take two poses and join them with a loop\n",
    "\n",
    "    Keep in mind this is just joined as far as the pose is concerned. The bond angles and lenghts will       be sub-optimal\n",
    "    \"\"\"\n",
    "    one_to_three = {\n",
    "    'A': 'ALA',\n",
    "    'C': 'CYS',\n",
    "    'D': 'ASP',\n",
    "    'E': 'GLU',\n",
    "    'F': 'PHE',\n",
    "    'G': 'GLY',\n",
    "    'H': 'HIS',\n",
    "    'I': 'ILE',\n",
    "    'K': 'LYS',\n",
    "    'L': 'LEU',\n",
    "    'M': 'MET',\n",
    "    'N': 'ASN',\n",
    "    'P': 'PRO',\n",
    "    'Q': 'GLN',\n",
    "    'R': 'ARG',\n",
    "    'S': 'SER',\n",
    "    'T': 'THR',\n",
    "    'V': 'VAL',\n",
    "    'Y': 'TYR',\n",
    "    'W': 'TRP'}\n",
    "    \n",
    "    pose_a = Pose()\n",
    "    pose_a.assign(n_term_pose)\n",
    "\n",
    "    pose_b = Pose()\n",
    "    pose_b.assign(c_term_pose)\n",
    "\n",
    "\n",
    "    # Setup CHEMICAL MANAGER TO MAKE NEW RESIDUES\n",
    "    chm = pyrosetta.rosetta.core.chemical.ChemicalManager.get_instance()\n",
    "    rts = chm.residue_type_set('fa_standard')\n",
    "    get_residue_object = lambda x: pyrosetta.rosetta.core.conformation.ResidueFactory.create_residue(\n",
    "        rts.name_map(x))\n",
    "    \n",
    "    # Will keep track of indexing of rebuilt loop\n",
    "    rebuilt_loop = []\n",
    "\n",
    "    '''Iterate through string turning each letter into a residue object and then \n",
    "    appending it to the N term pose'''\n",
    "    for one_letter in connect_with:\n",
    "        resi = get_residue_object(one_to_three[one_letter])\n",
    "        pose_a.append_residue_by_bond(resi, True)\n",
    "        pose_a.set_omega(pose_a.total_residue(), 180.)\n",
    "        rebuilt_loop.append(pose_a.total_residue())\n",
    "\n",
    "    \n",
    "    ##ADD the C term pose to the end of the loop we just appended\n",
    "    for residue_index in range(1, pose_b.total_residue()+1):\n",
    "        pose_a.append_residue_by_bond(\n",
    "            pose_b.residue(residue_index))\n",
    "\n",
    "    print(\"Joined NTerm and CTerm pose with loop {} at residues {}\".format(connect_with,rebuilt_loop))\n",
    "    return pose_a\n",
    "\n",
    "#Returns a pose that is connected, but sub-optimal geometry\n",
    "gk_input_pose = crudely_connect_w_loop(helix_ab_pose,helix_c_pose,'AGAAA')\n",
    "nv.show_rosetta(gk_input_pose)"
   ]
  },
  {
   "cell_type": "markdown",
   "metadata": {
    "ExecuteTime": {
     "end_time": "2019-05-22T07:15:01.948610Z",
     "start_time": "2019-05-22T07:15:01.929686Z"
    }
   },
   "source": [
    "> We now have an input pose that is ready to be applied to GK."
   ]
  },
  {
   "cell_type": "markdown",
   "metadata": {},
   "source": [
    "### Step 2: Initial GeneralizedKIC setup\n",
    "We're now ready to add the GeneralizedKIC mover that will close the gap in the loop and sample loop conformations using PyRosetta. We first need to import the GenKic PyRosetta Class."
   ]
  },
  {
   "cell_type": "code",
   "execution_count": 7,
   "metadata": {
    "ExecuteTime": {
     "end_time": "2019-05-22T22:49:18.048770Z",
     "start_time": "2019-05-22T22:49:15.734935Z"
    }
   },
   "outputs": [],
   "source": [
    "import GenKic \n",
    "from importlib import reload\n",
    "reload(GenKic)\n",
    "loop_residues = [28,29, 30, 31, 32, 33, 34]\n",
    "gk_object = GenKic.GenKic(loop_residues)"
   ]
  },
  {
   "cell_type": "markdown",
   "metadata": {},
   "source": [
    "> The GenKic object only parameter is the residue numbers to be considered in the GK mover. We add all the connecting loops from the previous step 29-33 plus two anchoring residues 28 and 34 However the user many, many options to control loop sampling, filtering, and solution selection. Typically, the first option that one wants to set is the number of attempts that the mover will make to find a closed solution. The default is 100000, but can be specified with a function."
   ]
  },
  {
   "cell_type": "code",
   "execution_count": 8,
   "metadata": {
    "ExecuteTime": {
     "end_time": "2019-05-22T22:49:18.052257Z",
     "start_time": "2019-05-22T22:49:18.050217Z"
    }
   },
   "outputs": [],
   "source": [
    "gk_object.set_closure_attempts(500000)"
   ]
  },
  {
   "cell_type": "markdown",
   "metadata": {},
   "source": [
    "> Each attempt could yield anywhere from 0 to 16 solutions. By default, every solution found will be stored until we've made the specified number of attempts (in our case 5000). This could be far too many solutions, though. It makes more sense to stop looking for solutions after we've found a small number. That number could be as low as 1 (i.e. GeneralizedKIC stops as soon as a solution is found), but for our purposes, let's set that number at 5:"
   ]
  },
  {
   "cell_type": "code",
   "execution_count": 9,
   "metadata": {
    "ExecuteTime": {
     "end_time": "2019-05-22T22:49:18.056381Z",
     "start_time": "2019-05-22T22:49:18.054531Z"
    }
   },
   "outputs": [],
   "source": [
    "gk_object.set_min_solutions(1000)"
   ]
  },
  {
   "cell_type": "markdown",
   "metadata": {},
   "source": [
    "> Even if we had set this numer at 1, a single attempt might have yielded up to 16 solutions. We always need to tell GeneralizedKIC how to pick a single solution from among the solutions. Here, we'll choose our solution by energy -- but there is an important caveat. Since we are sampling backbone conformations, with no consideration of side-chains, we should use a scoring function that consists primarily of backbone-only terms to pick the best solution. (Later we will see how we can apply an arbitrary mover -- e.g. a full repack and minimization -- to every solution, in which case it might make sense to use the full Rosetta scoring function to pick the best solution). Let's set up a backbone-only scoring function using weights from the ref2015 scoring function."
   ]
  },
  {
   "cell_type": "code",
   "execution_count": 10,
   "metadata": {
    "ExecuteTime": {
     "end_time": "2019-05-22T22:49:18.071176Z",
     "start_time": "2019-05-22T22:49:18.057854Z"
    }
   },
   "outputs": [],
   "source": [
    "def get_bb_only_sfxn():\n",
    "    scorefxn = ScoreFunction()\n",
    "    scorefxn.set_weight(pyrosetta.rosetta.core.scoring.fa_atr, 1)    # full-atom attractive score\n",
    "    scorefxn.set_weight(pyrosetta.rosetta.core.scoring.fa_rep, 0.55)    # full-atom repulsive score\n",
    "    scorefxn.set_weight(pyrosetta.rosetta.core.scoring.hbond_sr_bb, 1)    # short-range hbonding\n",
    "    scorefxn.set_weight(pyrosetta.rosetta.core.scoring.hbond_lr_bb, 1)    # long-range hbonding\n",
    "    scorefxn.set_weight(pyrosetta.rosetta.core.scoring.rama_prepro, 0.45)    # ramachandran score\n",
    "    scorefxn.set_weight(pyrosetta.rosetta.core.scoring.omega, 0.4)    # omega torsion score\n",
    "    scorefxn.set_weight(pyrosetta.rosetta.core.scoring.p_aa_pp, 0.625)\n",
    "    return scorefxn\n",
    "\n",
    "##Grab BB Only SFXN \n",
    "bb_only_sfxn = get_bb_only_sfxn()\n",
    "\n",
    "##Pass it to GK\n",
    "gk_object.set_scorefxn(bb_only_sfxn)"
   ]
  },
  {
   "cell_type": "markdown",
   "metadata": {},
   "source": [
    ">  Let's tell GeneralizedKIC to use this scoring function to pick a solution by adding this selector. If multiple solutions are found, it will return the top 5 by lowest energy by adding the 'lowest_energy_selector' selector type"
   ]
  },
  {
   "cell_type": "code",
   "execution_count": 11,
   "metadata": {
    "ExecuteTime": {
     "end_time": "2019-05-22T22:49:18.074029Z",
     "start_time": "2019-05-22T22:49:18.072192Z"
    }
   },
   "outputs": [],
   "source": [
    "gk_object.set_selector_type('lowest_energy_selector')"
   ]
  },
  {
   "cell_type": "markdown",
   "metadata": {},
   "source": [
    "### Step 3  Setting GeneralizedKIC perturbers\n",
    "Perturbers allow a user to alter degrees of freedom in the two segments between the pivots. They can:\n",
    "\n",
    "Set a degree of freedom to a fixed value\n",
    "Perturb a degree of freedom slighly from a starting value (i.e. add a small, random value to the value of the degree of freedom)\n",
    "Fully randomize a degree of freedom\n",
    "Draw a random value for a degree of freedom from a biased distribution (e.g. drawing mainchain torsion values from the Ramachandran distribution for the relevant amino acid type)\n",
    "Perturbers are applied in the order in which they are defined, and can override or modify the effect of previous perturbers. One could, for example, set a particular torsion value to 180, then allow small perturbations around that value, through successive application of a setting and a perturbing perturber.\n",
    "\n",
    "We want to use perturbers to do two things:\n",
    "\n",
    " - Set all mainchain omega values to 180 degrees.\n",
    "\n",
    " - Randomize phi and psi values for all amino acids in the loop, biased by each amino acid's Ramachandran map.\n",
    " \n",
    "  - Set the bond length, bond angles, and torsion angle of the currently-broken bond between residues 30 and 31 to ideal values for a peptide bond.\n",
    " \n",
    " First lets set all omega angles to 180"
   ]
  },
  {
   "cell_type": "code",
   "execution_count": 12,
   "metadata": {
    "ExecuteTime": {
     "end_time": "2019-05-22T22:49:18.078772Z",
     "start_time": "2019-05-22T22:49:18.075029Z"
    }
   },
   "outputs": [],
   "source": [
    "#First lets set alll mainchain omega values to 180 degrees in our loop. We don't want to include residue after the last anchor residue as that could potentially not exist. \n",
    "for res_num in loop_residues[:-1]:\n",
    "    gk_object.set_dihedral(res_num, res_num + 1, \"C\", \"N\", 180.1)\n",
    "    \n",
    "###Or there is a convienience function within the class that does the same thing\n",
    "gk_object.set_omega_angles()"
   ]
  },
  {
   "cell_type": "markdown",
   "metadata": {},
   "source": [
    "Next, let's randomize phi and psi values for all amino acids in the loop, biased by each amino acid's Ramachandran map. The randomize_backbone_by_rama_prepro perturber can be used for biased randomization of mainchain torsions of any residue that (a) has a Ramachandran map in the Rosetta database, and (b) has all of its mainchain torsions within the chain to be sampled by GeneralizedKIC. (That is, we cannot use it for, for example, a cysteine residue involved in a disulfide bond if we are closing through the disulfide bond.)"
   ]
  },
  {
   "cell_type": "code",
   "execution_count": 13,
   "metadata": {
    "ExecuteTime": {
     "end_time": "2019-05-22T22:49:18.081940Z",
     "start_time": "2019-05-22T22:49:18.079780Z"
    }
   },
   "outputs": [],
   "source": [
    "for res_num in loop_residues:\n",
    "    gk_object.randomize_backbone_by_rama_prepro(res_num)"
   ]
  },
  {
   "cell_type": "markdown",
   "metadata": {},
   "source": [
    "Finally, we want to let GK know about the broken bond we set between our poses which exists between residue 33 and 34 (the anchor residue and the last residue in our loop definition). But just for fun, let's see what happens if you don't run it with the close bond tag"
   ]
  },
  {
   "cell_type": "code",
   "execution_count": 14,
   "metadata": {
    "ExecuteTime": {
     "end_time": "2019-05-22T22:49:20.763808Z",
     "start_time": "2019-05-22T22:49:18.082945Z"
    }
   },
   "outputs": [
    {
     "data": {
      "application/vnd.jupyter.widget-view+json": {
       "model_id": "655bf030d78c43c09760413a0259808a",
       "version_major": 2,
       "version_minor": 0
      },
      "text/plain": [
       "NGLWidget()"
      ]
     },
     "metadata": {},
     "output_type": "display_data"
    }
   ],
   "source": [
    "gk_object.get_instance().apply(gk_input_pose)\n",
    "nglview.show_rosetta(gk_input_pose)"
   ]
  },
  {
   "cell_type": "markdown",
   "metadata": {},
   "source": [
    ">  GK is unable to close thd bond without the close_normal_bond parameter. "
   ]
  },
  {
   "cell_type": "code",
   "execution_count": 15,
   "metadata": {
    "ExecuteTime": {
     "end_time": "2019-05-22T22:49:23.300309Z",
     "start_time": "2019-05-22T22:49:20.764951Z"
    }
   },
   "outputs": [
    {
     "data": {
      "application/vnd.jupyter.widget-view+json": {
       "model_id": "8185a7a51c004299ab5bd439e1b53c64",
       "version_major": 2,
       "version_minor": 0
      },
      "text/plain": [
       "NGLWidget()"
      ]
     },
     "metadata": {},
     "output_type": "display_data"
    }
   ],
   "source": [
    "gk_object.close_normal_bond(33,34) #or gk_object.close_normal_bond(loop_residues[-2],loop_residues[-1])\n",
    "gk_object.get_instance().apply(gk_input_pose)\n",
    "nglview.show_rosetta(gk_input_pose)"
   ]
  },
  {
   "cell_type": "markdown",
   "metadata": {},
   "source": [
    "### Step 4: Filtering solutions to discard bad geometry\n",
    "There are a number of possible problems with the solutions produced. First, although the residues within each segment are being sampled in a biased manner based on their respective Ramachandran maps, the pivot residues have values assigned to them by the solver, which may put them in awkward regions of Ramachandran space. We want to filter out solutions with poor pivot Ramachandran energies. \n",
    "\n",
    "Second, we don't want loop solutions with clashing geometry, so we want some sort of bump check to be applied before accepting a solution. \n",
    "\n",
    "And third, we may want to impose some prior knowledge insofar as we expect the first and last residues of the loop, which are coming off of helices, to be in the alpha-helical bin (\"A\") of Ramachandran space.\n",
    "\n",
    "GeneralizedKIC filters are applied rapidly to all solutions produced by the KIC solver before the solutions are used to build computationally-expensive Pose geometry. They are therefore a good way to cheaply and efficiently discard bad solutions. Note that, unlike Rosetta's filters, the GeneralizedKIC filters operate on a set of loop degree-of-freedom values, not on a full Pose.\n",
    "\n",
    "> Let us first require that solutions have residues 28 ad 34 in the alpha-helical region of Ramachandran space. For this, we use a backbone_bin GeneralizedKIC filter: The \"ABBA\" bin parameters file, located in the Rosetta database, defines Ramachandran bins for the alpha-helical region (\"A\"), the beta-sheet region (\"B\"), and the mirror-image regions that can be accessed by D-amino acids (\"Aprime\" and \"Bprime\", respectively)."
   ]
  },
  {
   "cell_type": "code",
   "execution_count": 16,
   "metadata": {
    "ExecuteTime": {
     "end_time": "2019-05-22T22:49:23.524633Z",
     "start_time": "2019-05-22T22:49:23.301836Z"
    }
   },
   "outputs": [],
   "source": [
    "gk_object.set_filter_backbone_bin(loop_residues[0],'A',bin='ABBA')\n",
    "gk_object.set_filter_backbone_bin(loop_residues[-1],'A',bin='ABBA')"
   ]
  },
  {
   "cell_type": "markdown",
   "metadata": {},
   "source": [
    "> Next, we'll add a simple bump check filter (loop_bump_check) to discard solutions with clashing mainchain geometry. Note that this does not check sidechain geometry; it only operates on the heavyatoms of the loop to be closed "
   ]
  },
  {
   "cell_type": "code",
   "execution_count": 17,
   "metadata": {
    "ExecuteTime": {
     "end_time": "2019-05-22T22:49:23.528123Z",
     "start_time": "2019-05-22T22:49:23.526043Z"
    }
   },
   "outputs": [],
   "source": [
    "gk_object.set_filter_loop_bump_check()"
   ]
  },
  {
   "cell_type": "markdown",
   "metadata": {
    "ExecuteTime": {
     "end_time": "2019-05-22T08:22:38.650357Z",
     "start_time": "2019-05-22T08:22:38.647410Z"
    }
   },
   "source": [
    "> And finally, we'll add a rama_prepro_check filter to discard solutions in which pivot atoms are in energetically-unfavourable regions of Ramachandran space:"
   ]
  },
  {
   "cell_type": "code",
   "execution_count": 18,
   "metadata": {
    "ExecuteTime": {
     "end_time": "2019-05-22T22:49:23.531558Z",
     "start_time": "2019-05-22T22:49:23.529218Z"
    }
   },
   "outputs": [],
   "source": [
    "for r in gk_object.pivot_residues:\n",
    "    gk_object.set_filter_rama_prepro(r,cutoff=0.5)"
   ]
  },
  {
   "cell_type": "markdown",
   "metadata": {},
   "source": [
    "We can now grab the whole instance as a mover and apply it to the pose"
   ]
  },
  {
   "cell_type": "code",
   "execution_count": 19,
   "metadata": {
    "ExecuteTime": {
     "end_time": "2019-05-22T23:03:18.697736Z",
     "start_time": "2019-05-22T22:49:23.532657Z"
    }
   },
   "outputs": [
    {
     "data": {
      "application/vnd.jupyter.widget-view+json": {
       "model_id": "9478b215345e4ae3b0bd82f8f0466cf0",
       "version_major": 2,
       "version_minor": 0
      },
      "text/plain": [
       "NGLWidget()"
      ]
     },
     "metadata": {},
     "output_type": "display_data"
    }
   ],
   "source": [
    "##Show a beautifully closed Pose\n",
    "gk_instance = gk_object.get_instance()\n",
    "gk_instance.apply(gk_input_pose)\n",
    "\n",
    "##Show a beautifully closed Pose vs the reference input pose\n",
    "view = nv.NGLWidget()\n",
    "view.add_structure(nv.RosettaStructure(gk_input_pose))\n",
    "view.clear_representations()\n",
    "view.add_ribbon(color='blue')\n",
    "view.add_structure(nv.RosettaStructure(input_pose))\n",
    "view"
   ]
  },
  {
   "cell_type": "code",
   "execution_count": null,
   "metadata": {},
   "outputs": [],
   "source": []
  }
 ],
 "metadata": {
  "hide_input": false,
  "kernelspec": {
   "display_name": "Python 3",
   "language": "python",
   "name": "python3"
  },
  "language_info": {
   "codemirror_mode": {
    "name": "ipython",
    "version": 3
   },
   "file_extension": ".py",
   "mimetype": "text/x-python",
   "name": "python",
   "nbconvert_exporter": "python",
   "pygments_lexer": "ipython3",
   "version": "3.6.8"
  },
  "toc": {
   "base_numbering": 1,
   "nav_menu": {},
   "number_sections": false,
   "sideBar": true,
   "skip_h1_title": false,
   "title_cell": "Table of Contents",
   "title_sidebar": "Contents",
   "toc_cell": false,
   "toc_position": {},
   "toc_section_display": true,
   "toc_window_display": false
  }
 },
 "nbformat": 4,
 "nbformat_minor": 2
}
